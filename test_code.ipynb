{
 "cells": [
  {
   "cell_type": "code",
   "execution_count": 1,
   "metadata": {},
   "outputs": [],
   "source": [
    "import sys\n",
    "sys.path.append('./src')"
   ]
  },
  {
   "cell_type": "code",
   "execution_count": 2,
   "metadata": {
    "collapsed": true
   },
   "outputs": [],
   "source": [
    "import pandas as pd\n",
    "# from src.meBoot import MeBoot\n",
    "from scipy.optimize import minimize\n",
    "import numpy as np\n",
    "import statsmodels.api as sm\n",
    "from src.model import BootModel"
   ]
  },
  {
   "cell_type": "code",
   "execution_count": 3,
   "metadata": {
    "collapsed": false
   },
   "outputs": [
    {
     "data": {
      "text/html": [
       "<div>\n",
       "<style scoped>\n",
       "    .dataframe tbody tr th:only-of-type {\n",
       "        vertical-align: middle;\n",
       "    }\n",
       "\n",
       "    .dataframe tbody tr th {\n",
       "        vertical-align: top;\n",
       "    }\n",
       "\n",
       "    .dataframe thead th {\n",
       "        text-align: right;\n",
       "    }\n",
       "</style>\n",
       "<table border=\"1\" class=\"dataframe\">\n",
       "  <thead>\n",
       "    <tr style=\"text-align: right;\">\n",
       "      <th></th>\n",
       "      <th>Close</th>\n",
       "      <th>ema50</th>\n",
       "      <th>Volume</th>\n",
       "      <th>bol_up</th>\n",
       "      <th>bol_down</th>\n",
       "    </tr>\n",
       "  </thead>\n",
       "  <tbody>\n",
       "    <tr>\n",
       "      <th>0</th>\n",
       "      <td>151.279999</td>\n",
       "      <td>0.028017</td>\n",
       "      <td>65463900.0</td>\n",
       "      <td>-0.022571</td>\n",
       "      <td>0.066952</td>\n",
       "    </tr>\n",
       "    <tr>\n",
       "      <th>1</th>\n",
       "      <td>150.440002</td>\n",
       "      <td>0.021704</td>\n",
       "      <td>55020900.0</td>\n",
       "      <td>-0.028404</td>\n",
       "      <td>0.056794</td>\n",
       "    </tr>\n",
       "    <tr>\n",
       "      <th>2</th>\n",
       "      <td>150.809998</td>\n",
       "      <td>0.023158</td>\n",
       "      <td>56787900.0</td>\n",
       "      <td>-0.023840</td>\n",
       "      <td>0.050901</td>\n",
       "    </tr>\n",
       "    <tr>\n",
       "      <th>3</th>\n",
       "      <td>147.919998</td>\n",
       "      <td>0.003914</td>\n",
       "      <td>65187100.0</td>\n",
       "      <td>-0.037106</td>\n",
       "      <td>0.020881</td>\n",
       "    </tr>\n",
       "    <tr>\n",
       "      <th>4</th>\n",
       "      <td>147.869995</td>\n",
       "      <td>0.003437</td>\n",
       "      <td>41000000.0</td>\n",
       "      <td>-0.033749</td>\n",
       "      <td>0.014063</td>\n",
       "    </tr>\n",
       "    <tr>\n",
       "      <th>...</th>\n",
       "      <td>...</td>\n",
       "      <td>...</td>\n",
       "      <td>...</td>\n",
       "      <td>...</td>\n",
       "      <td>...</td>\n",
       "    </tr>\n",
       "    <tr>\n",
       "      <th>116</th>\n",
       "      <td>162.880005</td>\n",
       "      <td>-0.029676</td>\n",
       "      <td>96046400.0</td>\n",
       "      <td>-0.111136</td>\n",
       "      <td>0.018368</td>\n",
       "    </tr>\n",
       "    <tr>\n",
       "      <th>117</th>\n",
       "      <td>156.800003</td>\n",
       "      <td>-0.066872</td>\n",
       "      <td>95623200.0</td>\n",
       "      <td>-0.156702</td>\n",
       "      <td>-0.005224</td>\n",
       "    </tr>\n",
       "    <tr>\n",
       "      <th>118</th>\n",
       "      <td>156.570007</td>\n",
       "      <td>-0.065756</td>\n",
       "      <td>88063200.0</td>\n",
       "      <td>-0.154162</td>\n",
       "      <td>0.003361</td>\n",
       "    </tr>\n",
       "    <tr>\n",
       "      <th>119</th>\n",
       "      <td>163.639999</td>\n",
       "      <td>-0.018937</td>\n",
       "      <td>130216800.0</td>\n",
       "      <td>-0.095915</td>\n",
       "      <td>0.046673</td>\n",
       "    </tr>\n",
       "    <tr>\n",
       "      <th>120</th>\n",
       "      <td>157.649994</td>\n",
       "      <td>-0.055392</td>\n",
       "      <td>131587100.0</td>\n",
       "      <td>-0.134310</td>\n",
       "      <td>0.017964</td>\n",
       "    </tr>\n",
       "  </tbody>\n",
       "</table>\n",
       "<p>121 rows × 5 columns</p>\n",
       "</div>"
      ],
      "text/plain": [
       "          Close     ema50       Volume    bol_up  bol_down\n",
       "0    151.279999  0.028017   65463900.0 -0.022571  0.066952\n",
       "1    150.440002  0.021704   55020900.0 -0.028404  0.056794\n",
       "2    150.809998  0.023158   56787900.0 -0.023840  0.050901\n",
       "3    147.919998  0.003914   65187100.0 -0.037106  0.020881\n",
       "4    147.869995  0.003437   41000000.0 -0.033749  0.014063\n",
       "..          ...       ...          ...       ...       ...\n",
       "116  162.880005 -0.029676   96046400.0 -0.111136  0.018368\n",
       "117  156.800003 -0.066872   95623200.0 -0.156702 -0.005224\n",
       "118  156.570007 -0.065756   88063200.0 -0.154162  0.003361\n",
       "119  163.639999 -0.018937  130216800.0 -0.095915  0.046673\n",
       "120  157.649994 -0.055392  131587100.0 -0.134310  0.017964\n",
       "\n",
       "[121 rows x 5 columns]"
      ]
     },
     "execution_count": 3,
     "metadata": {},
     "output_type": "execute_result"
    }
   ],
   "source": [
    "df = pd.read_csv(\"/Users/erol/Projects/stocks/Data/test_dataset.csv\")\n",
    "df = df.loc[df['Symbol'] == 'AAPL',[\"Date\",\"Close\",\"ema50\",'Volume','bol_up','bol_down']]\n",
    "df['Date'] = pd.to_datetime(df['Date'])\n",
    "df = df.sort_values(by='Date').reset_index().drop(columns=['Date','index'])\n",
    "df"
   ]
  },
  {
   "cell_type": "code",
   "execution_count": 8,
   "metadata": {
    "collapsed": false
   },
   "outputs": [
    {
     "name": "stdout",
     "output_type": "stream",
     "text": [
      "Elapsed Time: [datetime.timedelta(microseconds=99462), datetime.timedelta(microseconds=1155), datetime.timedelta(microseconds=6568), datetime.timedelta(microseconds=480)]\n",
      "Elapsed Time: [datetime.timedelta(microseconds=134846), datetime.timedelta(microseconds=652), datetime.timedelta(microseconds=1526), datetime.timedelta(microseconds=702)]\n"
     ]
    },
    {
     "name": "stderr",
     "output_type": "stream",
     "text": [
      "/Users/erol/.pyenv/versions/3.9.12/envs/torch-metal/lib/python3.9/site-packages/sklearn/preprocessing/_data.py:239: UserWarning: Numerical issues were encountered when centering the data and might not be solved. Dataset may contain too large values. You may need to prescale your features.\n",
      "  warnings.warn(\n"
     ]
    },
    {
     "name": "stdout",
     "output_type": "stream",
     "text": [
      "Elapsed Time: [datetime.timedelta(microseconds=131846), datetime.timedelta(microseconds=639), datetime.timedelta(microseconds=761), datetime.timedelta(microseconds=143)]\n",
      "Elapsed Time: [datetime.timedelta(microseconds=153655), datetime.timedelta(microseconds=1249), datetime.timedelta(microseconds=4012), datetime.timedelta(microseconds=441)]\n"
     ]
    },
    {
     "ename": "KeyboardInterrupt",
     "evalue": "",
     "output_type": "error",
     "traceback": [
      "\u001B[0;31m---------------------------------------------------------------------------\u001B[0m",
      "\u001B[0;31mKeyboardInterrupt\u001B[0m                         Traceback (most recent call last)",
      "\u001B[1;32m/Users/erol/Projects/BootStrap/test_code.ipynb Cell 4\u001B[0m in \u001B[0;36m<cell line: 2>\u001B[0;34m()\u001B[0m\n\u001B[1;32m      <a href='vscode-notebook-cell:/Users/erol/Projects/BootStrap/test_code.ipynb#W3sZmlsZQ%3D%3D?line=0'>1</a>\u001B[0m mod_obj \u001B[39m=\u001B[39m BootModel(df,[\u001B[39m\"\u001B[39m\u001B[39mema50\u001B[39m\u001B[39m\"\u001B[39m,\u001B[39m'\u001B[39m\u001B[39mVolume\u001B[39m\u001B[39m'\u001B[39m,\u001B[39m'\u001B[39m\u001B[39mbol_up\u001B[39m\u001B[39m'\u001B[39m,\u001B[39m'\u001B[39m\u001B[39mbol_down\u001B[39m\u001B[39m'\u001B[39m],\u001B[39m'\u001B[39m\u001B[39mClose\u001B[39m\u001B[39m'\u001B[39m,intercept\u001B[39m=\u001B[39m\u001B[39mTrue\u001B[39;00m)\n\u001B[0;32m----> <a href='vscode-notebook-cell:/Users/erol/Projects/BootStrap/test_code.ipynb#W3sZmlsZQ%3D%3D?line=1'>2</a>\u001B[0m aa \u001B[39m=\u001B[39m mod_obj\u001B[39m.\u001B[39;49mget_coef_dists()\n",
      "File \u001B[0;32m~/Projects/BootStrap/src/model.py:79\u001B[0m, in \u001B[0;36mBootModel.get_coef_dists\u001B[0;34m(self)\u001B[0m\n\u001B[1;32m     77\u001B[0m     \u001B[39mfor\u001B[39;00m j \u001B[39min\u001B[39;00m \u001B[39mrange\u001B[39m(\u001B[39mlen\u001B[39m(\u001B[39mself\u001B[39m\u001B[39m.\u001B[39mfeatures)):\n\u001B[1;32m     78\u001B[0m         x \u001B[39m=\u001B[39m np\u001B[39m.\u001B[39mconcatenate((x, \u001B[39mself\u001B[39m\u001B[39m.\u001B[39msamples[j]\u001B[39m.\u001B[39mget(\u001B[39m'\u001B[39m\u001B[39mensemble\u001B[39m\u001B[39m'\u001B[39m)[i, :]\u001B[39m.\u001B[39mreshape(\u001B[39m-\u001B[39m\u001B[39m1\u001B[39m, \u001B[39m1\u001B[39m)), axis\u001B[39m=\u001B[39m\u001B[39m1\u001B[39m)\n\u001B[0;32m---> 79\u001B[0m     coef_list\u001B[39m.\u001B[39mappend(\u001B[39mself\u001B[39;49m\u001B[39m.\u001B[39;49mbuild_fit_model(x, y, [\u001B[39m10\u001B[39;49m,\u001B[39m11\u001B[39;49m,\u001B[39m12\u001B[39;49m,\u001B[39m13\u001B[39;49m],\u001B[39m30\u001B[39;49m))\n\u001B[1;32m     80\u001B[0m \u001B[39mreturn\u001B[39;00m coef_list\n",
      "File \u001B[0;32m~/Projects/BootStrap/src/model.py:93\u001B[0m, in \u001B[0;36mBootModel.build_fit_model\u001B[0;34m(self, x, y, peak_range, ad_length)\u001B[0m\n\u001B[1;32m     91\u001B[0m S \u001B[39m=\u001B[39m get_adstock_matrix(x\u001B[39m.\u001B[39mshape[\u001B[39m0\u001B[39m], compute_adstock_vector(x\u001B[39m.\u001B[39mshape[\u001B[39m0\u001B[39m], [ad_length, p, r]))\n\u001B[1;32m     92\u001B[0m x[:,t_var_index] \u001B[39m=\u001B[39m np\u001B[39m.\u001B[39mmatmul(S, x[:,t_var_index])\n\u001B[0;32m---> 93\u001B[0m coefs, score \u001B[39m=\u001B[39m \u001B[39mself\u001B[39;49m\u001B[39m.\u001B[39;49mfit_model(x, y)\n\u001B[1;32m     94\u001B[0m \u001B[39mif\u001B[39;00m score \u001B[39m<\u001B[39m best_score:\n\u001B[1;32m     95\u001B[0m     best_score \u001B[39m=\u001B[39m score\n",
      "File \u001B[0;32m~/Projects/BootStrap/src/model.py:49\u001B[0m, in \u001B[0;36mBootModel.fit_model\u001B[0;34m(x, y, bounds)\u001B[0m\n\u001B[1;32m     46\u001B[0m     \u001B[39mreturn\u001B[39;00m np\u001B[39m.\u001B[39mmatmul(np\u001B[39m.\u001B[39mtranspose(x), x)\n\u001B[1;32m     48\u001B[0m beta_init \u001B[39m=\u001B[39m np\u001B[39m.\u001B[39mzeros(shape\u001B[39m=\u001B[39m(x\u001B[39m.\u001B[39mshape[\u001B[39m1\u001B[39m],), dtype\u001B[39m=\u001B[39mnp\u001B[39m.\u001B[39mfloat32)\n\u001B[0;32m---> 49\u001B[0m opt_res \u001B[39m=\u001B[39m minimize(objective, x0\u001B[39m=\u001B[39;49mbeta_init, method\u001B[39m=\u001B[39;49m\u001B[39m'\u001B[39;49m\u001B[39mtrust-constr\u001B[39;49m\u001B[39m'\u001B[39;49m, jac\u001B[39m=\u001B[39;49m\u001B[39mTrue\u001B[39;49;00m,\n\u001B[1;32m     50\u001B[0m                    hess\u001B[39m=\u001B[39;49mhessian, bounds\u001B[39m=\u001B[39;49mbounds, options\u001B[39m=\u001B[39;49m{\u001B[39m'\u001B[39;49m\u001B[39mverbose\u001B[39;49m\u001B[39m'\u001B[39;49m: \u001B[39m0\u001B[39;49m, \u001B[39m'\u001B[39;49m\u001B[39mxtol\u001B[39;49m\u001B[39m'\u001B[39;49m: \u001B[39m1e-10\u001B[39;49m})\n\u001B[1;32m     52\u001B[0m \u001B[39mreturn\u001B[39;00m opt_res\u001B[39m.\u001B[39mx, opt_res\u001B[39m.\u001B[39mfun\n",
      "File \u001B[0;32m~/.pyenv/versions/3.9.12/envs/torch-metal/lib/python3.9/site-packages/scipy/optimize/_minimize.py:704\u001B[0m, in \u001B[0;36mminimize\u001B[0;34m(fun, x0, args, method, jac, hess, hessp, bounds, constraints, tol, callback, options)\u001B[0m\n\u001B[1;32m    701\u001B[0m     res \u001B[39m=\u001B[39m _minimize_slsqp(fun, x0, args, jac, bounds,\n\u001B[1;32m    702\u001B[0m                           constraints, callback\u001B[39m=\u001B[39mcallback, \u001B[39m*\u001B[39m\u001B[39m*\u001B[39moptions)\n\u001B[1;32m    703\u001B[0m \u001B[39melif\u001B[39;00m meth \u001B[39m==\u001B[39m \u001B[39m'\u001B[39m\u001B[39mtrust-constr\u001B[39m\u001B[39m'\u001B[39m:\n\u001B[0;32m--> 704\u001B[0m     res \u001B[39m=\u001B[39m _minimize_trustregion_constr(fun, x0, args, jac, hess, hessp,\n\u001B[1;32m    705\u001B[0m                                        bounds, constraints,\n\u001B[1;32m    706\u001B[0m                                        callback\u001B[39m=\u001B[39;49mcallback, \u001B[39m*\u001B[39;49m\u001B[39m*\u001B[39;49moptions)\n\u001B[1;32m    707\u001B[0m \u001B[39melif\u001B[39;00m meth \u001B[39m==\u001B[39m \u001B[39m'\u001B[39m\u001B[39mdogleg\u001B[39m\u001B[39m'\u001B[39m:\n\u001B[1;32m    708\u001B[0m     res \u001B[39m=\u001B[39m _minimize_dogleg(fun, x0, args, jac, hess,\n\u001B[1;32m    709\u001B[0m                            callback\u001B[39m=\u001B[39mcallback, \u001B[39m*\u001B[39m\u001B[39m*\u001B[39moptions)\n",
      "File \u001B[0;32m~/.pyenv/versions/3.9.12/envs/torch-metal/lib/python3.9/site-packages/scipy/optimize/_trustregion_constr/minimize_trustregion_constr.py:500\u001B[0m, in \u001B[0;36m_minimize_trustregion_constr\u001B[0;34m(fun, x0, args, grad, hess, hessp, bounds, constraints, xtol, gtol, barrier_tol, sparse_jacobian, callback, maxiter, verbose, finite_diff_rel_step, initial_constr_penalty, initial_tr_radius, initial_barrier_parameter, initial_barrier_tolerance, factorization_method, disp)\u001B[0m\n\u001B[1;32m    497\u001B[0m         J_eq, _ \u001B[39m=\u001B[39m canonical\u001B[39m.\u001B[39mjac(x)\n\u001B[1;32m    498\u001B[0m         \u001B[39mreturn\u001B[39;00m g, J_eq\n\u001B[0;32m--> 500\u001B[0m     _, result \u001B[39m=\u001B[39m equality_constrained_sqp(\n\u001B[1;32m    501\u001B[0m         fun_and_constr, grad_and_jac, lagrangian_hess,\n\u001B[1;32m    502\u001B[0m         x0, objective\u001B[39m.\u001B[39;49mf, objective\u001B[39m.\u001B[39;49mg,\n\u001B[1;32m    503\u001B[0m         c_eq0, J_eq0,\n\u001B[1;32m    504\u001B[0m         stop_criteria, state,\n\u001B[1;32m    505\u001B[0m         initial_constr_penalty, initial_tr_radius,\n\u001B[1;32m    506\u001B[0m         factorization_method)\n\u001B[1;32m    508\u001B[0m \u001B[39melif\u001B[39;00m method \u001B[39m==\u001B[39m \u001B[39m'\u001B[39m\u001B[39mtr_interior_point\u001B[39m\u001B[39m'\u001B[39m:\n\u001B[1;32m    509\u001B[0m     _, result \u001B[39m=\u001B[39m tr_interior_point(\n\u001B[1;32m    510\u001B[0m         objective\u001B[39m.\u001B[39mfun, objective\u001B[39m.\u001B[39mgrad, lagrangian_hess,\n\u001B[1;32m    511\u001B[0m         n_vars, canonical\u001B[39m.\u001B[39mn_ineq, canonical\u001B[39m.\u001B[39mn_eq,\n\u001B[0;32m   (...)\u001B[0m\n\u001B[1;32m    519\u001B[0m         initial_constr_penalty, initial_tr_radius,\n\u001B[1;32m    520\u001B[0m         factorization_method)\n",
      "File \u001B[0;32m~/.pyenv/versions/3.9.12/envs/torch-metal/lib/python3.9/site-packages/scipy/optimize/_trustregion_constr/equality_constrained_sqp.py:118\u001B[0m, in \u001B[0;36mequality_constrained_sqp\u001B[0;34m(fun_and_constr, grad_and_jac, lagr_hess, x0, fun0, grad0, constr0, jac0, stop_criteria, state, initial_penalty, initial_trust_radius, factorization_method, trust_lb, trust_ub, scaling)\u001B[0m\n\u001B[1;32m    116\u001B[0m lb_t \u001B[39m=\u001B[39m trust_lb \u001B[39m-\u001B[39m dn\n\u001B[1;32m    117\u001B[0m ub_t \u001B[39m=\u001B[39m trust_ub \u001B[39m-\u001B[39m dn\n\u001B[0;32m--> 118\u001B[0m dt, cg_info \u001B[39m=\u001B[39m projected_cg(H, c_t, Z, Y, b_t,\n\u001B[1;32m    119\u001B[0m                            trust_radius_t,\n\u001B[1;32m    120\u001B[0m                            lb_t, ub_t)\n\u001B[1;32m    122\u001B[0m \u001B[39m# Compute update (normal + tangential steps).\u001B[39;00m\n\u001B[1;32m    123\u001B[0m d \u001B[39m=\u001B[39m dn \u001B[39m+\u001B[39m dt\n",
      "File \u001B[0;32m~/.pyenv/versions/3.9.12/envs/torch-metal/lib/python3.9/site-packages/scipy/optimize/_trustregion_constr/qp_subproblem.py:498\u001B[0m, in \u001B[0;36mprojected_cg\u001B[0;34m(H, c, Z, Y, b, trust_radius, lb, ub, tol, max_iter, max_infeasible_iter, return_all)\u001B[0m\n\u001B[1;32m    496\u001B[0m \u001B[39m# Initial Values\u001B[39;00m\n\u001B[1;32m    497\u001B[0m x \u001B[39m=\u001B[39m Y\u001B[39m.\u001B[39mdot(\u001B[39m-\u001B[39mb)\n\u001B[0;32m--> 498\u001B[0m r \u001B[39m=\u001B[39m Z\u001B[39m.\u001B[39;49mdot(H\u001B[39m.\u001B[39;49mdot(x) \u001B[39m+\u001B[39;49m c)\n\u001B[1;32m    499\u001B[0m g \u001B[39m=\u001B[39m Z\u001B[39m.\u001B[39mdot(r)\n\u001B[1;32m    500\u001B[0m p \u001B[39m=\u001B[39m \u001B[39m-\u001B[39mg\n",
      "File \u001B[0;32m~/.pyenv/versions/3.9.12/envs/torch-metal/lib/python3.9/site-packages/scipy/sparse/linalg/_interface.py:418\u001B[0m, in \u001B[0;36mLinearOperator.dot\u001B[0;34m(self, x)\u001B[0m\n\u001B[1;32m    415\u001B[0m x \u001B[39m=\u001B[39m np\u001B[39m.\u001B[39masarray(x)\n\u001B[1;32m    417\u001B[0m \u001B[39mif\u001B[39;00m x\u001B[39m.\u001B[39mndim \u001B[39m==\u001B[39m \u001B[39m1\u001B[39m \u001B[39mor\u001B[39;00m x\u001B[39m.\u001B[39mndim \u001B[39m==\u001B[39m \u001B[39m2\u001B[39m \u001B[39mand\u001B[39;00m x\u001B[39m.\u001B[39mshape[\u001B[39m1\u001B[39m] \u001B[39m==\u001B[39m \u001B[39m1\u001B[39m:\n\u001B[0;32m--> 418\u001B[0m     \u001B[39mreturn\u001B[39;00m \u001B[39mself\u001B[39;49m\u001B[39m.\u001B[39;49mmatvec(x)\n\u001B[1;32m    419\u001B[0m \u001B[39melif\u001B[39;00m x\u001B[39m.\u001B[39mndim \u001B[39m==\u001B[39m \u001B[39m2\u001B[39m:\n\u001B[1;32m    420\u001B[0m     \u001B[39mreturn\u001B[39;00m \u001B[39mself\u001B[39m\u001B[39m.\u001B[39mmatmat(x)\n",
      "File \u001B[0;32m~/.pyenv/versions/3.9.12/envs/torch-metal/lib/python3.9/site-packages/scipy/sparse/linalg/_interface.py:232\u001B[0m, in \u001B[0;36mLinearOperator.matvec\u001B[0;34m(self, x)\u001B[0m\n\u001B[1;32m    229\u001B[0m \u001B[39mif\u001B[39;00m x\u001B[39m.\u001B[39mshape \u001B[39m!=\u001B[39m (N,) \u001B[39mand\u001B[39;00m x\u001B[39m.\u001B[39mshape \u001B[39m!=\u001B[39m (N,\u001B[39m1\u001B[39m):\n\u001B[1;32m    230\u001B[0m     \u001B[39mraise\u001B[39;00m \u001B[39mValueError\u001B[39;00m(\u001B[39m'\u001B[39m\u001B[39mdimension mismatch\u001B[39m\u001B[39m'\u001B[39m)\n\u001B[0;32m--> 232\u001B[0m y \u001B[39m=\u001B[39m \u001B[39mself\u001B[39;49m\u001B[39m.\u001B[39;49m_matvec(x)\n\u001B[1;32m    234\u001B[0m \u001B[39mif\u001B[39;00m \u001B[39misinstance\u001B[39m(x, np\u001B[39m.\u001B[39mmatrix):\n\u001B[1;32m    235\u001B[0m     y \u001B[39m=\u001B[39m asmatrix(y)\n",
      "File \u001B[0;32m~/.pyenv/versions/3.9.12/envs/torch-metal/lib/python3.9/site-packages/scipy/sparse/linalg/_interface.py:530\u001B[0m, in \u001B[0;36m_CustomLinearOperator._matvec\u001B[0;34m(self, x)\u001B[0m\n\u001B[1;32m    529\u001B[0m \u001B[39mdef\u001B[39;00m \u001B[39m_matvec\u001B[39m(\u001B[39mself\u001B[39m, x):\n\u001B[0;32m--> 530\u001B[0m     \u001B[39mreturn\u001B[39;00m \u001B[39mself\u001B[39;49m\u001B[39m.\u001B[39;49m__matvec_impl(x)\n",
      "File \u001B[0;32m~/.pyenv/versions/3.9.12/envs/torch-metal/lib/python3.9/site-packages/scipy/optimize/_trustregion_constr/projections.py:125\u001B[0m, in \u001B[0;36maugmented_system_projections.<locals>.null_space\u001B[0;34m(x)\u001B[0m\n\u001B[1;32m    122\u001B[0m \u001B[39m# Iterative refinement to improve roundoff\u001B[39;00m\n\u001B[1;32m    123\u001B[0m \u001B[39m# errors described in [2]_, algorithm 5.2.\u001B[39;00m\n\u001B[1;32m    124\u001B[0m k \u001B[39m=\u001B[39m \u001B[39m0\u001B[39m\n\u001B[0;32m--> 125\u001B[0m \u001B[39mwhile\u001B[39;00m orthogonality(A, z) \u001B[39m>\u001B[39m orth_tol:\n\u001B[1;32m    126\u001B[0m     \u001B[39mif\u001B[39;00m k \u001B[39m>\u001B[39m\u001B[39m=\u001B[39m max_refin:\n\u001B[1;32m    127\u001B[0m         \u001B[39mbreak\u001B[39;00m\n",
      "File \u001B[0;32m~/.pyenv/versions/3.9.12/envs/torch-metal/lib/python3.9/site-packages/scipy/optimize/_trustregion_constr/projections.py:43\u001B[0m, in \u001B[0;36morthogonality\u001B[0;34m(A, g)\u001B[0m\n\u001B[1;32m     41\u001B[0m \u001B[39m# Compute Froebnius norm of the matrix A\u001B[39;00m\n\u001B[1;32m     42\u001B[0m \u001B[39mif\u001B[39;00m issparse(A):\n\u001B[0;32m---> 43\u001B[0m     norm_A \u001B[39m=\u001B[39m scipy\u001B[39m.\u001B[39;49msparse\u001B[39m.\u001B[39;49mlinalg\u001B[39m.\u001B[39;49mnorm(A, \u001B[39mord\u001B[39;49m\u001B[39m=\u001B[39;49m\u001B[39m'\u001B[39;49m\u001B[39mfro\u001B[39;49m\u001B[39m'\u001B[39;49m)\n\u001B[1;32m     44\u001B[0m \u001B[39melse\u001B[39;00m:\n\u001B[1;32m     45\u001B[0m     norm_A \u001B[39m=\u001B[39m np\u001B[39m.\u001B[39mlinalg\u001B[39m.\u001B[39mnorm(A, \u001B[39mord\u001B[39m\u001B[39m=\u001B[39m\u001B[39m'\u001B[39m\u001B[39mfro\u001B[39m\u001B[39m'\u001B[39m)\n",
      "File \u001B[0;32m~/.pyenv/versions/3.9.12/envs/torch-metal/lib/python3.9/site-packages/scipy/sparse/linalg/_norm.py:113\u001B[0m, in \u001B[0;36mnorm\u001B[0;34m(x, ord, axis)\u001B[0m\n\u001B[1;32m    111\u001B[0m \u001B[39m# Check the default case first and handle it immediately.\u001B[39;00m\n\u001B[1;32m    112\u001B[0m \u001B[39mif\u001B[39;00m axis \u001B[39mis\u001B[39;00m \u001B[39mNone\u001B[39;00m \u001B[39mand\u001B[39;00m \u001B[39mord\u001B[39m \u001B[39min\u001B[39;00m (\u001B[39mNone\u001B[39;00m, \u001B[39m'\u001B[39m\u001B[39mfro\u001B[39m\u001B[39m'\u001B[39m, \u001B[39m'\u001B[39m\u001B[39mf\u001B[39m\u001B[39m'\u001B[39m):\n\u001B[0;32m--> 113\u001B[0m     \u001B[39mreturn\u001B[39;00m _sparse_frobenius_norm(x)\n\u001B[1;32m    115\u001B[0m \u001B[39m# Some norms require functions that are not implemented for all types.\u001B[39;00m\n\u001B[1;32m    116\u001B[0m x \u001B[39m=\u001B[39m x\u001B[39m.\u001B[39mtocsr()\n",
      "File \u001B[0;32m~/.pyenv/versions/3.9.12/envs/torch-metal/lib/python3.9/site-packages/scipy/sparse/linalg/_norm.py:16\u001B[0m, in \u001B[0;36m_sparse_frobenius_norm\u001B[0;34m(x)\u001B[0m\n\u001B[1;32m     14\u001B[0m     sqnorm \u001B[39m=\u001B[39m \u001B[39mabs\u001B[39m(x)\u001B[39m.\u001B[39mpower(\u001B[39m2\u001B[39m)\u001B[39m.\u001B[39msum()\n\u001B[1;32m     15\u001B[0m \u001B[39melse\u001B[39;00m:\n\u001B[0;32m---> 16\u001B[0m     sqnorm \u001B[39m=\u001B[39m x\u001B[39m.\u001B[39;49mpower(\u001B[39m2\u001B[39;49m)\u001B[39m.\u001B[39msum()\n\u001B[1;32m     17\u001B[0m \u001B[39mreturn\u001B[39;00m sqrt(sqnorm)\n",
      "File \u001B[0;32m~/.pyenv/versions/3.9.12/envs/torch-metal/lib/python3.9/site-packages/scipy/sparse/_data.py:117\u001B[0m, in \u001B[0;36m_data_matrix.power\u001B[0;34m(self, n, dtype)\u001B[0m\n\u001B[1;32m    115\u001B[0m \u001B[39mif\u001B[39;00m dtype \u001B[39mis\u001B[39;00m \u001B[39mnot\u001B[39;00m \u001B[39mNone\u001B[39;00m:\n\u001B[1;32m    116\u001B[0m     data \u001B[39m=\u001B[39m data\u001B[39m.\u001B[39mastype(dtype)\n\u001B[0;32m--> 117\u001B[0m \u001B[39mreturn\u001B[39;00m \u001B[39mself\u001B[39;49m\u001B[39m.\u001B[39;49m_with_data(data \u001B[39m*\u001B[39;49m\u001B[39m*\u001B[39;49m n)\n",
      "File \u001B[0;32m~/.pyenv/versions/3.9.12/envs/torch-metal/lib/python3.9/site-packages/scipy/sparse/_compressed.py:1230\u001B[0m, in \u001B[0;36m_cs_matrix._with_data\u001B[0;34m(self, data, copy)\u001B[0m\n\u001B[1;32m   1225\u001B[0m \u001B[39m\"\"\"Returns a matrix with the same sparsity structure as self,\u001B[39;00m\n\u001B[1;32m   1226\u001B[0m \u001B[39mbut with different data.  By default the structure arrays\u001B[39;00m\n\u001B[1;32m   1227\u001B[0m \u001B[39m(i.e. .indptr and .indices) are copied.\u001B[39;00m\n\u001B[1;32m   1228\u001B[0m \u001B[39m\"\"\"\u001B[39;00m\n\u001B[1;32m   1229\u001B[0m \u001B[39mif\u001B[39;00m copy:\n\u001B[0;32m-> 1230\u001B[0m     \u001B[39mreturn\u001B[39;00m \u001B[39mself\u001B[39;49m\u001B[39m.\u001B[39;49m\u001B[39m__class__\u001B[39;49m((data, \u001B[39mself\u001B[39;49m\u001B[39m.\u001B[39;49mindices\u001B[39m.\u001B[39;49mcopy(),\n\u001B[1;32m   1231\u001B[0m                            \u001B[39mself\u001B[39;49m\u001B[39m.\u001B[39;49mindptr\u001B[39m.\u001B[39;49mcopy()),\n\u001B[1;32m   1232\u001B[0m                           shape\u001B[39m=\u001B[39;49m\u001B[39mself\u001B[39;49m\u001B[39m.\u001B[39;49mshape,\n\u001B[1;32m   1233\u001B[0m                           dtype\u001B[39m=\u001B[39;49mdata\u001B[39m.\u001B[39;49mdtype)\n\u001B[1;32m   1234\u001B[0m \u001B[39melse\u001B[39;00m:\n\u001B[1;32m   1235\u001B[0m     \u001B[39mreturn\u001B[39;00m \u001B[39mself\u001B[39m\u001B[39m.\u001B[39m\u001B[39m__class__\u001B[39m((data, \u001B[39mself\u001B[39m\u001B[39m.\u001B[39mindices, \u001B[39mself\u001B[39m\u001B[39m.\u001B[39mindptr),\n\u001B[1;32m   1236\u001B[0m                           shape\u001B[39m=\u001B[39m\u001B[39mself\u001B[39m\u001B[39m.\u001B[39mshape, dtype\u001B[39m=\u001B[39mdata\u001B[39m.\u001B[39mdtype)\n",
      "File \u001B[0;32m~/.pyenv/versions/3.9.12/envs/torch-metal/lib/python3.9/site-packages/scipy/sparse/_compressed.py:106\u001B[0m, in \u001B[0;36m_cs_matrix.__init__\u001B[0;34m(self, arg1, shape, dtype, copy)\u001B[0m\n\u001B[1;32m    103\u001B[0m \u001B[39mif\u001B[39;00m dtype \u001B[39mis\u001B[39;00m \u001B[39mnot\u001B[39;00m \u001B[39mNone\u001B[39;00m:\n\u001B[1;32m    104\u001B[0m     \u001B[39mself\u001B[39m\u001B[39m.\u001B[39mdata \u001B[39m=\u001B[39m \u001B[39mself\u001B[39m\u001B[39m.\u001B[39mdata\u001B[39m.\u001B[39mastype(dtype, copy\u001B[39m=\u001B[39m\u001B[39mFalse\u001B[39;00m)\n\u001B[0;32m--> 106\u001B[0m \u001B[39mself\u001B[39;49m\u001B[39m.\u001B[39;49mcheck_format(full_check\u001B[39m=\u001B[39;49m\u001B[39mFalse\u001B[39;49;00m)\n",
      "File \u001B[0;32m~/.pyenv/versions/3.9.12/envs/torch-metal/lib/python3.9/site-packages/scipy/sparse/_compressed.py:181\u001B[0m, in \u001B[0;36m_cs_matrix.check_format\u001B[0;34m(self, full_check)\u001B[0m\n\u001B[1;32m    177\u001B[0m \u001B[39mif\u001B[39;00m (\u001B[39mself\u001B[39m\u001B[39m.\u001B[39mindptr[\u001B[39m-\u001B[39m\u001B[39m1\u001B[39m] \u001B[39m>\u001B[39m \u001B[39mlen\u001B[39m(\u001B[39mself\u001B[39m\u001B[39m.\u001B[39mindices)):\n\u001B[1;32m    178\u001B[0m     \u001B[39mraise\u001B[39;00m \u001B[39mValueError\u001B[39;00m(\u001B[39m\"\u001B[39m\u001B[39mLast value of index pointer should be less than \u001B[39m\u001B[39m\"\u001B[39m\n\u001B[1;32m    179\u001B[0m                      \u001B[39m\"\u001B[39m\u001B[39mthe size of index and data arrays\u001B[39m\u001B[39m\"\u001B[39m)\n\u001B[0;32m--> 181\u001B[0m \u001B[39mself\u001B[39;49m\u001B[39m.\u001B[39;49mprune()\n\u001B[1;32m    183\u001B[0m \u001B[39mif\u001B[39;00m full_check:\n\u001B[1;32m    184\u001B[0m     \u001B[39m# check format validity (more expensive)\u001B[39;00m\n\u001B[1;32m    185\u001B[0m     \u001B[39mif\u001B[39;00m \u001B[39mself\u001B[39m\u001B[39m.\u001B[39mnnz \u001B[39m>\u001B[39m \u001B[39m0\u001B[39m:\n",
      "File \u001B[0;32m~/.pyenv/versions/3.9.12/envs/torch-metal/lib/python3.9/site-packages/scipy/sparse/_compressed.py:1175\u001B[0m, in \u001B[0;36m_cs_matrix.prune\u001B[0;34m(self)\u001B[0m\n\u001B[1;32m   1173\u001B[0m \u001B[39mif\u001B[39;00m \u001B[39mlen\u001B[39m(\u001B[39mself\u001B[39m\u001B[39m.\u001B[39mindptr) \u001B[39m!=\u001B[39m major_dim \u001B[39m+\u001B[39m \u001B[39m1\u001B[39m:\n\u001B[1;32m   1174\u001B[0m     \u001B[39mraise\u001B[39;00m \u001B[39mValueError\u001B[39;00m(\u001B[39m'\u001B[39m\u001B[39mindex pointer has invalid length\u001B[39m\u001B[39m'\u001B[39m)\n\u001B[0;32m-> 1175\u001B[0m \u001B[39mif\u001B[39;00m \u001B[39mlen\u001B[39m(\u001B[39mself\u001B[39m\u001B[39m.\u001B[39mindices) \u001B[39m<\u001B[39m \u001B[39mself\u001B[39;49m\u001B[39m.\u001B[39;49mnnz:\n\u001B[1;32m   1176\u001B[0m     \u001B[39mraise\u001B[39;00m \u001B[39mValueError\u001B[39;00m(\u001B[39m'\u001B[39m\u001B[39mindices array has fewer than nnz elements\u001B[39m\u001B[39m'\u001B[39m)\n\u001B[1;32m   1177\u001B[0m \u001B[39mif\u001B[39;00m \u001B[39mlen\u001B[39m(\u001B[39mself\u001B[39m\u001B[39m.\u001B[39mdata) \u001B[39m<\u001B[39m \u001B[39mself\u001B[39m\u001B[39m.\u001B[39mnnz:\n",
      "File \u001B[0;32m~/.pyenv/versions/3.9.12/envs/torch-metal/lib/python3.9/site-packages/scipy/sparse/_base.py:291\u001B[0m, in \u001B[0;36mspmatrix.nnz\u001B[0;34m(self)\u001B[0m\n\u001B[1;32m    276\u001B[0m     \u001B[39m\"\"\"Number of stored values, including explicit zeros.\u001B[39;00m\n\u001B[1;32m    277\u001B[0m \n\u001B[1;32m    278\u001B[0m \u001B[39m    Parameters\u001B[39;00m\n\u001B[0;32m   (...)\u001B[0m\n\u001B[1;32m    286\u001B[0m \u001B[39m    count_nonzero : Number of non-zero entries\u001B[39;00m\n\u001B[1;32m    287\u001B[0m \u001B[39m    \"\"\"\u001B[39;00m\n\u001B[1;32m    288\u001B[0m     \u001B[39mraise\u001B[39;00m \u001B[39mNotImplementedError\u001B[39;00m(\u001B[39m\"\u001B[39m\u001B[39mgetnnz not implemented for \u001B[39m\u001B[39m%s\u001B[39;00m\u001B[39m.\u001B[39m\u001B[39m\"\u001B[39m \u001B[39m%\u001B[39m\n\u001B[1;32m    289\u001B[0m                               \u001B[39mself\u001B[39m\u001B[39m.\u001B[39m\u001B[39m__class__\u001B[39m\u001B[39m.\u001B[39m\u001B[39m__name__\u001B[39m)\n\u001B[0;32m--> 291\u001B[0m \u001B[39m@property\u001B[39m\n\u001B[1;32m    292\u001B[0m \u001B[39mdef\u001B[39;00m \u001B[39mnnz\u001B[39m(\u001B[39mself\u001B[39m):\n\u001B[1;32m    293\u001B[0m     \u001B[39m\"\"\"Number of stored values, including explicit zeros.\u001B[39;00m\n\u001B[1;32m    294\u001B[0m \n\u001B[1;32m    295\u001B[0m \u001B[39m    See also\u001B[39;00m\n\u001B[1;32m    296\u001B[0m \u001B[39m    --------\u001B[39;00m\n\u001B[1;32m    297\u001B[0m \u001B[39m    count_nonzero : Number of non-zero entries\u001B[39;00m\n\u001B[1;32m    298\u001B[0m \u001B[39m    \"\"\"\u001B[39;00m\n\u001B[1;32m    299\u001B[0m     \u001B[39mreturn\u001B[39;00m \u001B[39mself\u001B[39m\u001B[39m.\u001B[39mgetnnz()\n",
      "File \u001B[0;32m~/.pyenv/versions/3.9.12/envs/torch-metal/lib/python3.9/site-packages/debugpy/_vendored/pydevd/_pydevd_bundle/pydevd_trace_dispatch_regular.py:359\u001B[0m, in \u001B[0;36mThreadTracer.__call__\u001B[0;34m(self, frame, event, arg)\u001B[0m\n\u001B[1;32m    357\u001B[0m \u001B[39mtry\u001B[39;00m:\n\u001B[1;32m    358\u001B[0m     pydev_step_cmd \u001B[39m=\u001B[39m additional_info\u001B[39m.\u001B[39mpydev_step_cmd\n\u001B[0;32m--> 359\u001B[0m     is_stepping \u001B[39m=\u001B[39m pydev_step_cmd \u001B[39m!=\u001B[39;49m \u001B[39m-\u001B[39;49m\u001B[39m1\u001B[39;49m\n\u001B[1;32m    360\u001B[0m     \u001B[39mif\u001B[39;00m py_db\u001B[39m.\u001B[39mpydb_disposed:\n\u001B[1;32m    361\u001B[0m         \u001B[39mreturn\u001B[39;00m \u001B[39mNone\u001B[39;00m \u001B[39mif\u001B[39;00m event \u001B[39m==\u001B[39m \u001B[39m'\u001B[39m\u001B[39mcall\u001B[39m\u001B[39m'\u001B[39m \u001B[39melse\u001B[39;00m NO_FTRACE\n",
      "\u001B[0;31mKeyboardInterrupt\u001B[0m: "
     ]
    }
   ],
   "source": [
    "mod_obj = BootModel(df,[\"ema50\",'Volume','bol_up','bol_down'],'Close',intercept=True)\n",
    "aa = mod_obj.get_coef_dists()"
   ]
  },
  {
   "cell_type": "code",
   "execution_count": 5,
   "metadata": {
    "collapsed": false
   },
   "outputs": [],
   "source": [
    "# ensemble = np.repeat(np.matrix(df.index.values), 10, axis=0)\n",
    "# for p in ensemble:\n",
    "#     print(len(np.array(p)[0]))\n",
    "vol_coef = []\n",
    "for c in aa:\n",
    "    vol_coef.append(c[2])"
   ]
  },
  {
   "cell_type": "code",
   "execution_count": 6,
   "metadata": {
    "collapsed": false
   },
   "outputs": [],
   "source": [
    "import matplotlib.pyplot as plt"
   ]
  },
  {
   "cell_type": "code",
   "execution_count": 7,
   "metadata": {
    "collapsed": false
   },
   "outputs": [
    {
     "data": {
      "image/png": "[encoded data removed]",
      "text/plain": [
       "<Figure size 432x288 with 1 Axes>"
      ]
     },
     "metadata": {
      "needs_background": "light"
     },
     "output_type": "display_data"
    }
   ],
   "source": [
    "plt.hist(vol_coef, bins=10)\n",
    "plt.show()"
   ]
  },
  {
   "cell_type": "code",
   "execution_count": 31,
   "metadata": {
    "collapsed": false
   },
   "outputs": [],
   "source": [
    "df['intercept'] = 1.0\n",
    "Y = df['Close'].values\n",
    "X = df[['intercept','ema50','Volume','bol_up','bol_down']].values\n",
    "\n",
    "def objective(beta):\n",
    "    return 0.5*np.sum((np.matmul(X,beta) - Y)**2), np.matmul(np.transpose(X),(np.matmul(X,beta) - Y))\n",
    "\n",
    "def hessian(beta):\n",
    "    return np.matmul(np.transpose(X), X)\n",
    "\n",
    "beta = np.zeros(shape=(X.shape[1],),dtype=np.float32)\n",
    "a, b = objective(beta)"
   ]
  },
  {
   "cell_type": "code",
   "execution_count": 32,
   "metadata": {
    "collapsed": false
   },
   "outputs": [
    {
     "name": "stdout",
     "output_type": "stream",
     "text": [
      "| niter |f evals|CG iter|  obj func   |tr radius |   opt    |  c viol  |\n",
      "|-------|-------|-------|-------------|----------|----------|----------|\n",
      "|   1   |   1   |   0   | +1.6933e+06 | 1.00e+00 | 1.92e+12 | 0.00e+00 |\n",
      "|   2   |   2   |   1   | +1.2924e+05 | 1.00e+00 | 1.51e+03 | 0.00e+00 |\n",
      "|   3   |   3   |   3   | +1.2773e+05 | 7.00e+00 | 1.17e+09 | 0.00e+00 |\n",
      "|   4   |   4   |   4   | +1.2773e+05 | 7.00e+00 | 1.50e+03 | 0.00e+00 |\n",
      "|   5   |   5   |   6   | +1.1742e+05 | 4.90e+01 | 1.16e+09 | 0.00e+00 |\n",
      "|   6   |   6   |   7   | +1.1742e+05 | 4.90e+01 | 1.44e+03 | 0.00e+00 |\n",
      "|   7   |   7   |   9   | +5.7772e+04 | 3.43e+02 | 7.81e+08 | 0.00e+00 |\n",
      "|   8   |   8   |  10   | +5.7771e+04 | 3.43e+02 | 9.90e+02 | 0.00e+00 |\n",
      "|   9   |   9   |  15   | +2.6025e+03 | 8.77e+02 | 9.03e+01 | 0.00e+00 |\n",
      "|  10   |  10   |  20   | +1.9463e+03 | 1.14e+03 | 1.22e+01 | 0.00e+00 |\n",
      "|  11   |  11   |  25   | +1.8276e+03 | 1.14e+03 | 9.81e-01 | 0.00e+00 |\n",
      "|  12   |  12   |  30   | +1.8057e+03 | 1.14e+03 | 2.74e+00 | 0.00e+00 |\n",
      "|  13   |  13   |  35   | +1.8017e+03 | 1.14e+03 | 5.61e-01 | 0.00e+00 |\n",
      "|  14   |  14   |  40   | +1.8009e+03 | 1.14e+03 | 7.64e-01 | 0.00e+00 |\n",
      "|  15   |  15   |  45   | +1.8007e+03 | 1.14e+03 | 8.14e-02 | 0.00e+00 |\n",
      "|  16   |  16   |  50   | +1.8007e+03 | 1.14e+03 | 2.26e-01 | 0.00e+00 |\n",
      "|  17   |  17   |  52   | +1.8007e+03 | 1.14e+03 | 1.45e-02 | 0.00e+00 |\n",
      "|  18   |  18   |  57   | +1.8007e+03 | 1.14e+03 | 2.22e-02 | 0.00e+00 |\n",
      "|  19   |  19   |  62   | +1.8007e+03 | 1.14e+03 | 7.88e-03 | 0.00e+00 |\n",
      "|  20   |  20   |  67   | +1.8007e+03 | 1.14e+03 | 1.33e-02 | 0.00e+00 |\n",
      "|  21   |  21   |  72   | +1.8007e+03 | 1.14e+03 | 4.08e-03 | 0.00e+00 |\n",
      "|  22   |  22   |  77   | +1.8007e+03 | 1.14e+03 | 8.52e-03 | 0.00e+00 |\n",
      "|  23   |  23   |  82   | +1.8007e+03 | 1.14e+03 | 2.46e-03 | 0.00e+00 |\n",
      "|  24   |  24   |  87   | +1.8007e+03 | 1.14e+03 | 5.47e-03 | 0.00e+00 |\n",
      "|  25   |  25   |  92   | +1.8007e+03 | 1.14e+03 | 1.56e-03 | 0.00e+00 |\n",
      "|  26   |  26   |  97   | +1.8007e+03 | 1.14e+03 | 3.51e-03 | 0.00e+00 |\n",
      "|  27   |  27   |  102  | +1.8007e+03 | 1.14e+03 | 9.97e-04 | 0.00e+00 |\n",
      "|  28   |  28   |  107  | +1.8007e+03 | 1.14e+03 | 2.25e-03 | 0.00e+00 |\n",
      "|  29   |  29   |  112  | +1.8007e+03 | 1.14e+03 | 6.38e-04 | 0.00e+00 |\n",
      "|  30   |  30   |  117  | +1.8007e+03 | 1.14e+03 | 1.44e-03 | 0.00e+00 |\n",
      "|  31   |  31   |  122  | +1.8007e+03 | 1.14e+03 | 4.09e-04 | 0.00e+00 |\n",
      "|  32   |  32   |  127  | +1.8007e+03 | 1.14e+03 | 9.23e-04 | 0.00e+00 |\n",
      "|  33   |  33   |  131  | +1.8007e+03 | 1.14e+03 | 2.62e-04 | 0.00e+00 |\n",
      "|  34   |  34   |  136  | +1.8007e+03 | 1.14e+03 | 5.92e-04 | 0.00e+00 |\n",
      "|  35   |  35   |  141  | +1.8007e+03 | 1.14e+03 | 4.90e-04 | 0.00e+00 |\n",
      "|  36   |  36   |  146  | +1.8007e+03 | 1.14e+03 | 3.79e-04 | 0.00e+00 |\n",
      "|  37   |  37   |  151  | +1.8007e+03 | 1.14e+03 | 1.39e-04 | 0.00e+00 |\n",
      "|  38   |  38   |  156  | +1.8007e+03 | 1.14e+03 | 2.43e-04 | 0.00e+00 |\n",
      "|  39   |  39   |  161  | +1.8007e+03 | 1.14e+03 | 1.49e-04 | 0.00e+00 |\n",
      "|  40   |  40   |  166  | +1.8007e+03 | 1.14e+03 | 1.56e-04 | 0.00e+00 |\n",
      "|  41   |  41   |  171  | +1.8007e+03 | 1.14e+03 | 4.42e-05 | 0.00e+00 |\n",
      "|  42   |  42   |  176  | +1.8007e+03 | 1.14e+03 | 9.98e-05 | 0.00e+00 |\n",
      "|  43   |  43   |  181  | +1.8007e+03 | 1.14e+03 | 4.20e-05 | 0.00e+00 |\n",
      "|  44   |  44   |  186  | +1.8007e+03 | 1.14e+03 | 9.01e-05 | 0.00e+00 |\n",
      "|  45   |  45   |  191  | +1.8007e+03 | 1.14e+03 | 5.44e-05 | 0.00e+00 |\n",
      "|  46   |  46   |  196  | +1.8007e+03 | 1.14e+03 | 1.17e-04 | 0.00e+00 |\n",
      "|  47   |  47   |  201  | +1.8007e+03 | 1.14e+03 | 1.13e-04 | 0.00e+00 |\n",
      "|  48   |  48   |  202  | +1.8007e+03 | 1.14e+03 | 2.74e-05 | 0.00e+00 |\n",
      "|  49   |  49   |  207  | +1.8007e+03 | 1.14e+03 | 2.63e-05 | 0.00e+00 |\n",
      "|  50   |  50   |  212  | +1.8007e+03 | 1.14e+03 | 5.70e-05 | 0.00e+00 |\n",
      "|  51   |  51   |  213  | +1.8007e+03 | 1.14e+03 | 1.05e-05 | 0.00e+00 |\n",
      "|  52   |  52   |  218  | +1.8007e+03 | 1.14e+03 | 1.35e-04 | 0.00e+00 |\n",
      "|  53   |  53   |  219  | +1.8007e+03 | 1.14e+02 | 1.35e-04 | 0.00e+00 |\n",
      "|  54   |  53   |  220  | +1.8007e+03 | 1.14e+01 | 1.35e-04 | 0.00e+00 |\n",
      "|  55   |  53   |  221  | +1.8007e+03 | 1.14e+00 | 1.35e-04 | 0.00e+00 |\n",
      "|  56   |  53   |  222  | +1.8007e+03 | 1.14e-01 | 1.35e-04 | 0.00e+00 |\n",
      "|  57   |  53   |  223  | +1.8007e+03 | 1.14e-02 | 1.35e-04 | 0.00e+00 |\n",
      "|  58   |  53   |  224  | +1.8007e+03 | 1.14e-03 | 1.35e-04 | 0.00e+00 |\n",
      "|  59   |  53   |  225  | +1.8007e+03 | 1.14e-04 | 1.35e-04 | 0.00e+00 |\n",
      "|  60   |  53   |  226  | +1.8007e+03 | 1.14e-05 | 1.35e-04 | 0.00e+00 |\n",
      "|  61   |  53   |  227  | +1.8007e+03 | 1.14e-06 | 1.35e-04 | 0.00e+00 |\n",
      "|  62   |  53   |  228  | +1.8007e+03 | 1.14e-07 | 1.35e-04 | 0.00e+00 |\n",
      "|  63   |  53   |  229  | +1.8007e+03 | 1.14e-08 | 1.35e-04 | 0.00e+00 |\n",
      "|  64   |  53   |  230  | +1.8007e+03 | 1.14e-09 | 1.35e-04 | 0.00e+00 |\n",
      "|  65   |  53   |  231  | +1.8007e+03 | 1.14e-10 | 1.35e-04 | 0.00e+00 |\n",
      "|  66   |  53   |  232  | +1.8007e+03 | 1.14e-11 | 1.35e-04 | 0.00e+00 |\n",
      "\n",
      "`xtol` termination condition is satisfied.\n",
      "Number of iterations: 66, function evaluations: 53, CG iterations: 232, optimality: 1.35e-04, constraint violation: 0.00e+00, execution time: 0.071 s.\n"
     ]
    }
   ],
   "source": [
    "opt_res = minimize(objective, x0=beta,method='trust-constr', jac=True, hess=hessian,options={'verbose':2,'xtol':1e-10})"
   ]
  },
  {
   "cell_type": "code",
   "execution_count": 33,
   "metadata": {
    "collapsed": false
   },
   "outputs": [
    {
     "data": {
      "text/plain": [
       "array([ 1.55997676e+02,  1.76812034e+02, -6.30689448e-08, -1.54648241e+02,\n",
       "        5.88827281e+01])"
      ]
     },
     "execution_count": 33,
     "metadata": {},
     "output_type": "execute_result"
    }
   ],
   "source": [
    "opt_res.x"
   ]
  },
  {
   "cell_type": "code",
   "execution_count": 34,
   "metadata": {
    "collapsed": false
   },
   "outputs": [
    {
     "data": {
      "text/plain": [
       "array([ 1.55997671e+02,  1.76812214e+02, -6.30689787e-08, -1.54648360e+02,\n",
       "        5.88827003e+01])"
      ]
     },
     "execution_count": 34,
     "metadata": {},
     "output_type": "execute_result"
    }
   ],
   "source": [
    "model = sm.OLS(Y,X)\n",
    "results = model.fit()\n",
    "results.params"
   ]
  },
  {
   "cell_type": "code",
   "execution_count": 35,
   "metadata": {
    "collapsed": false
   },
   "outputs": [
    {
     "data": {
      "text/html": [
       "<table class=\"simpletable\">\n",
       "<caption>OLS Regression Results</caption>\n",
       "<tr>\n",
       "  <th>Dep. Variable:</th>            <td>y</td>        <th>  R-squared:         </th> <td>   0.561</td>\n",
       "</tr>\n",
       "<tr>\n",
       "  <th>Model:</th>                   <td>OLS</td>       <th>  Adj. R-squared:    </th> <td>   0.546</td>\n",
       "</tr>\n",
       "<tr>\n",
       "  <th>Method:</th>             <td>Least Squares</td>  <th>  F-statistic:       </th> <td>   37.09</td>\n",
       "</tr>\n",
       "<tr>\n",
       "  <th>Date:</th>             <td>Sat, 15 Oct 2022</td> <th>  Prob (F-statistic):</th> <td>5.97e-20</td>\n",
       "</tr>\n",
       "<tr>\n",
       "  <th>Time:</th>                 <td>14:02:28</td>     <th>  Log-Likelihood:    </th> <td> -376.99</td>\n",
       "</tr>\n",
       "<tr>\n",
       "  <th>No. Observations:</th>      <td>   121</td>      <th>  AIC:               </th> <td>   764.0</td>\n",
       "</tr>\n",
       "<tr>\n",
       "  <th>Df Residuals:</th>          <td>   116</td>      <th>  BIC:               </th> <td>   777.9</td>\n",
       "</tr>\n",
       "<tr>\n",
       "  <th>Df Model:</th>              <td>     4</td>      <th>                     </th>     <td> </td>   \n",
       "</tr>\n",
       "<tr>\n",
       "  <th>Covariance Type:</th>      <td>nonrobust</td>    <th>                     </th>     <td> </td>   \n",
       "</tr>\n",
       "</table>\n",
       "<table class=\"simpletable\">\n",
       "<tr>\n",
       "    <td></td>       <th>coef</th>     <th>std err</th>      <th>t</th>      <th>P>|t|</th>  <th>[0.025</th>    <th>0.975]</th>  \n",
       "</tr>\n",
       "<tr>\n",
       "  <th>const</th> <td>  155.9977</td> <td>    2.260</td> <td>   69.036</td> <td> 0.000</td> <td>  151.522</td> <td>  160.473</td>\n",
       "</tr>\n",
       "<tr>\n",
       "  <th>x1</th>    <td>  176.8122</td> <td>   25.387</td> <td>    6.965</td> <td> 0.000</td> <td>  126.530</td> <td>  227.095</td>\n",
       "</tr>\n",
       "<tr>\n",
       "  <th>x2</th>    <td>-6.307e-08</td> <td> 2.04e-08</td> <td>   -3.090</td> <td> 0.003</td> <td>-1.03e-07</td> <td>-2.26e-08</td>\n",
       "</tr>\n",
       "<tr>\n",
       "  <th>x3</th>    <td> -154.6484</td> <td>   23.479</td> <td>   -6.587</td> <td> 0.000</td> <td> -201.152</td> <td> -108.145</td>\n",
       "</tr>\n",
       "<tr>\n",
       "  <th>x4</th>    <td>   58.8827</td> <td>   17.254</td> <td>    3.413</td> <td> 0.001</td> <td>   24.708</td> <td>   93.057</td>\n",
       "</tr>\n",
       "</table>\n",
       "<table class=\"simpletable\">\n",
       "<tr>\n",
       "  <th>Omnibus:</th>       <td> 6.991</td> <th>  Durbin-Watson:     </th> <td>   0.230</td>\n",
       "</tr>\n",
       "<tr>\n",
       "  <th>Prob(Omnibus):</th> <td> 0.030</td> <th>  Jarque-Bera (JB):  </th> <td>   7.153</td>\n",
       "</tr>\n",
       "<tr>\n",
       "  <th>Skew:</th>          <td>-0.564</td> <th>  Prob(JB):          </th> <td>  0.0280</td>\n",
       "</tr>\n",
       "<tr>\n",
       "  <th>Kurtosis:</th>      <td> 2.618</td> <th>  Cond. No.          </th> <td>6.31e+09</td>\n",
       "</tr>\n",
       "</table><br/><br/>Notes:<br/>[1] Standard Errors assume that the covariance matrix of the errors is correctly specified.<br/>[2] The condition number is large, 6.31e+09. This might indicate that there are<br/>strong multicollinearity or other numerical problems."
      ],
      "text/plain": [
       "<class 'statsmodels.iolib.summary.Summary'>\n",
       "\"\"\"\n",
       "                            OLS Regression Results                            \n",
       "==============================================================================\n",
       "Dep. Variable:                      y   R-squared:                       0.561\n",
       "Model:                            OLS   Adj. R-squared:                  0.546\n",
       "Method:                 Least Squares   F-statistic:                     37.09\n",
       "Date:                Sat, 15 Oct 2022   Prob (F-statistic):           5.97e-20\n",
       "Time:                        14:02:28   Log-Likelihood:                -376.99\n",
       "No. Observations:                 121   AIC:                             764.0\n",
       "Df Residuals:                     116   BIC:                             777.9\n",
       "Df Model:                           4                                         \n",
       "Covariance Type:            nonrobust                                         \n",
       "==============================================================================\n",
       "                 coef    std err          t      P>|t|      [0.025      0.975]\n",
       "------------------------------------------------------------------------------\n",
       "const        155.9977      2.260     69.036      0.000     151.522     160.473\n",
       "x1           176.8122     25.387      6.965      0.000     126.530     227.095\n",
       "x2         -6.307e-08   2.04e-08     -3.090      0.003   -1.03e-07   -2.26e-08\n",
       "x3          -154.6484     23.479     -6.587      0.000    -201.152    -108.145\n",
       "x4            58.8827     17.254      3.413      0.001      24.708      93.057\n",
       "==============================================================================\n",
       "Omnibus:                        6.991   Durbin-Watson:                   0.230\n",
       "Prob(Omnibus):                  0.030   Jarque-Bera (JB):                7.153\n",
       "Skew:                          -0.564   Prob(JB):                       0.0280\n",
       "Kurtosis:                       2.618   Cond. No.                     6.31e+09\n",
       "==============================================================================\n",
       "\n",
       "Notes:\n",
       "[1] Standard Errors assume that the covariance matrix of the errors is correctly specified.\n",
       "[2] The condition number is large, 6.31e+09. This might indicate that there are\n",
       "strong multicollinearity or other numerical problems.\n",
       "\"\"\""
      ]
     },
     "execution_count": 35,
     "metadata": {},
     "output_type": "execute_result"
    }
   ],
   "source": [
    "results.summary()"
   ]
  },
  {
   "cell_type": "markdown",
   "metadata": {
    "collapsed": false
   },
   "source": [
    "$$\n",
    "f = Ar^{l-p-1}\n",
    "$$"
   ]
  },
  {
   "cell_type": "code",
   "execution_count": 37,
   "metadata": {
    "collapsed": false
   },
   "outputs": [
    {
     "data": {
      "text/plain": [
       "0.6105402296585328"
      ]
     },
     "execution_count": 37,
     "metadata": {},
     "output_type": "execute_result"
    }
   ],
   "source": [
    "np.exp(np.log(0.001)/(20 - 5 -1))"
   ]
  }
 ],
 "metadata": {
  "kernelspec": {
   "display_name": "Python 3.9.12 64-bit ('torch-metal')",
   "language": "python",
   "name": "python3"
  },
  "language_info": {
   "codemirror_mode": {
    "name": "ipython",
    "version": 3
   },
   "file_extension": ".py",
   "mimetype": "text/x-python",
   "name": "python",
   "nbconvert_exporter": "python",
   "pygments_lexer": "ipython3",
   "version": "3.9.12"
  },
  "vscode": {
   "interpreter": {
    "hash": "9f6f5ab2246d264586f52cf9431af97e5130ea0abc55d3d4282759d24f5e7c24"
   }
  }
 },
 "nbformat": 4,
 "nbformat_minor": 0
}
