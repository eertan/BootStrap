{
 "cells": [
  {
   "cell_type": "code",
   "execution_count": 1,
   "metadata": {
    "collapsed": true
   },
   "outputs": [],
   "source": [
    "import pandas as pd\n",
    "from meBoot import MeBoot\n",
    "from scipy.optimize import minimize\n",
    "import numpy as np\n",
    "import statsmodels.api as sm\n",
    "from model import BootModel"
   ]
  },
  {
   "cell_type": "code",
   "execution_count": 2,
   "outputs": [
    {
     "data": {
      "text/plain": "          Close     ema50       Volume    bol_up  bol_down\n0    151.279999  0.028017   65463900.0 -0.022571  0.066952\n1    150.440002  0.021704   55020900.0 -0.028404  0.056794\n2    150.809998  0.023158   56787900.0 -0.023840  0.050901\n3    147.919998  0.003914   65187100.0 -0.037106  0.020881\n4    147.869995  0.003437   41000000.0 -0.033749  0.014063\n..          ...       ...          ...       ...       ...\n116  162.880005 -0.029676   96046400.0 -0.111136  0.018368\n117  156.800003 -0.066872   95623200.0 -0.156702 -0.005224\n118  156.570007 -0.065756   88063200.0 -0.154162  0.003361\n119  163.639999 -0.018937  130216800.0 -0.095915  0.046673\n120  157.649994 -0.055392  131587100.0 -0.134310  0.017964\n\n[121 rows x 5 columns]",
      "text/html": "<div>\n<style scoped>\n    .dataframe tbody tr th:only-of-type {\n        vertical-align: middle;\n    }\n\n    .dataframe tbody tr th {\n        vertical-align: top;\n    }\n\n    .dataframe thead th {\n        text-align: right;\n    }\n</style>\n<table border=\"1\" class=\"dataframe\">\n  <thead>\n    <tr style=\"text-align: right;\">\n      <th></th>\n      <th>Close</th>\n      <th>ema50</th>\n      <th>Volume</th>\n      <th>bol_up</th>\n      <th>bol_down</th>\n    </tr>\n  </thead>\n  <tbody>\n    <tr>\n      <th>0</th>\n      <td>151.279999</td>\n      <td>0.028017</td>\n      <td>65463900.0</td>\n      <td>-0.022571</td>\n      <td>0.066952</td>\n    </tr>\n    <tr>\n      <th>1</th>\n      <td>150.440002</td>\n      <td>0.021704</td>\n      <td>55020900.0</td>\n      <td>-0.028404</td>\n      <td>0.056794</td>\n    </tr>\n    <tr>\n      <th>2</th>\n      <td>150.809998</td>\n      <td>0.023158</td>\n      <td>56787900.0</td>\n      <td>-0.023840</td>\n      <td>0.050901</td>\n    </tr>\n    <tr>\n      <th>3</th>\n      <td>147.919998</td>\n      <td>0.003914</td>\n      <td>65187100.0</td>\n      <td>-0.037106</td>\n      <td>0.020881</td>\n    </tr>\n    <tr>\n      <th>4</th>\n      <td>147.869995</td>\n      <td>0.003437</td>\n      <td>41000000.0</td>\n      <td>-0.033749</td>\n      <td>0.014063</td>\n    </tr>\n    <tr>\n      <th>...</th>\n      <td>...</td>\n      <td>...</td>\n      <td>...</td>\n      <td>...</td>\n      <td>...</td>\n    </tr>\n    <tr>\n      <th>116</th>\n      <td>162.880005</td>\n      <td>-0.029676</td>\n      <td>96046400.0</td>\n      <td>-0.111136</td>\n      <td>0.018368</td>\n    </tr>\n    <tr>\n      <th>117</th>\n      <td>156.800003</td>\n      <td>-0.066872</td>\n      <td>95623200.0</td>\n      <td>-0.156702</td>\n      <td>-0.005224</td>\n    </tr>\n    <tr>\n      <th>118</th>\n      <td>156.570007</td>\n      <td>-0.065756</td>\n      <td>88063200.0</td>\n      <td>-0.154162</td>\n      <td>0.003361</td>\n    </tr>\n    <tr>\n      <th>119</th>\n      <td>163.639999</td>\n      <td>-0.018937</td>\n      <td>130216800.0</td>\n      <td>-0.095915</td>\n      <td>0.046673</td>\n    </tr>\n    <tr>\n      <th>120</th>\n      <td>157.649994</td>\n      <td>-0.055392</td>\n      <td>131587100.0</td>\n      <td>-0.134310</td>\n      <td>0.017964</td>\n    </tr>\n  </tbody>\n</table>\n<p>121 rows × 5 columns</p>\n</div>"
     },
     "execution_count": 2,
     "metadata": {},
     "output_type": "execute_result"
    }
   ],
   "source": [
    "df = pd.read_csv(\"/Users/erol/Projects/stocks/Data/test_dataset.csv\")\n",
    "df = df.loc[df['Symbol'] == 'AAPL',[\"Date\",\"Close\",\"ema50\",'Volume','bol_up','bol_down']]\n",
    "df['Date'] = pd.to_datetime(df['Date'])\n",
    "df = df.sort_values(by='Date').reset_index().drop(columns=['Date','index'])\n",
    "df"
   ],
   "metadata": {
    "collapsed": false
   }
  },
  {
   "cell_type": "code",
   "execution_count": 3,
   "outputs": [
    {
     "name": "stdout",
     "output_type": "stream",
     "text": [
      "Elapsed Time: [datetime.timedelta(microseconds=74415), datetime.timedelta(microseconds=2217), datetime.timedelta(microseconds=1045), datetime.timedelta(microseconds=102)]\n",
      "Elapsed Time: [datetime.timedelta(microseconds=87425), datetime.timedelta(microseconds=1511), datetime.timedelta(microseconds=3217), datetime.timedelta(microseconds=315)]\n",
      "Elapsed Time: [datetime.timedelta(microseconds=76084), datetime.timedelta(microseconds=604), datetime.timedelta(microseconds=408), datetime.timedelta(microseconds=86)]\n"
     ]
    },
    {
     "name": "stderr",
     "output_type": "stream",
     "text": [
      "/Users/erol/.pyenv/versions/3.9.12/envs/torch-metal/lib/python3.9/site-packages/sklearn/preprocessing/_data.py:239: UserWarning: Numerical issues were encountered when centering the data and might not be solved. Dataset may contain too large values. You may need to prescale your features.\n",
      "  warnings.warn(\n"
     ]
    },
    {
     "name": "stdout",
     "output_type": "stream",
     "text": [
      "Elapsed Time: [datetime.timedelta(microseconds=112975), datetime.timedelta(microseconds=596), datetime.timedelta(microseconds=416), datetime.timedelta(microseconds=85)]\n"
     ]
    }
   ],
   "source": [
    "mod_obj = BootModel(df,[\"ema50\",'Volume','bol_up','bol_down'],'Close',intercept=True)\n",
    "aa = mod_obj.get_coef_dists()"
   ],
   "metadata": {
    "collapsed": false
   }
  },
  {
   "cell_type": "code",
   "execution_count": 5,
   "outputs": [],
   "source": [
    "# ensemble = np.repeat(np.matrix(df.index.values), 10, axis=0)\n",
    "# for p in ensemble:\n",
    "#     print(len(np.array(p)[0]))\n",
    "vol_coef = []\n",
    "for c in aa:\n",
    "    vol_coef.append(c[2])"
   ],
   "metadata": {
    "collapsed": false
   }
  },
  {
   "cell_type": "code",
   "execution_count": 6,
   "outputs": [],
   "source": [
    "import matplotlib.pyplot as plt"
   ],
   "metadata": {
    "collapsed": false
   }
  },
  {
   "cell_type": "code",
   "execution_count": 9,
   "outputs": [
    {
     "data": {
      "text/plain": "<Figure size 432x288 with 1 Axes>",
      "image/png": "[encoded data removed]"
     },
     "metadata": {
      "needs_background": "light"
     },
     "output_type": "display_data"
    }
   ],
   "source": [
    "plt.hist(vol_coef, bins=10)\n",
    "plt.show()"
   ],
   "metadata": {
    "collapsed": false
   }
  },
  {
   "cell_type": "code",
   "execution_count": 31,
   "outputs": [],
   "source": [
    "df['intercept'] = 1.0\n",
    "Y = df['Close'].values\n",
    "X = df[['intercept','ema50','Volume','bol_up','bol_down']].values\n",
    "\n",
    "def objective(beta):\n",
    "    return 0.5*np.sum((np.matmul(X,beta) - Y)**2), np.matmul(np.transpose(X),(np.matmul(X,beta) - Y))\n",
    "\n",
    "def hessian(beta):\n",
    "    return np.matmul(np.transpose(X), X)\n",
    "\n",
    "beta = np.zeros(shape=(X.shape[1],),dtype=np.float32)\n",
    "a, b = objective(beta)"
   ],
   "metadata": {
    "collapsed": false
   }
  },
  {
   "cell_type": "code",
   "execution_count": 32,
   "outputs": [
    {
     "name": "stdout",
     "output_type": "stream",
     "text": [
      "| niter |f evals|CG iter|  obj func   |tr radius |   opt    |  c viol  |\n",
      "|-------|-------|-------|-------------|----------|----------|----------|\n",
      "|   1   |   1   |   0   | +1.6933e+06 | 1.00e+00 | 1.92e+12 | 0.00e+00 |\n",
      "|   2   |   2   |   1   | +1.2924e+05 | 1.00e+00 | 1.51e+03 | 0.00e+00 |\n",
      "|   3   |   3   |   3   | +1.2773e+05 | 7.00e+00 | 1.17e+09 | 0.00e+00 |\n",
      "|   4   |   4   |   4   | +1.2773e+05 | 7.00e+00 | 1.50e+03 | 0.00e+00 |\n",
      "|   5   |   5   |   6   | +1.1742e+05 | 4.90e+01 | 1.16e+09 | 0.00e+00 |\n",
      "|   6   |   6   |   7   | +1.1742e+05 | 4.90e+01 | 1.44e+03 | 0.00e+00 |\n",
      "|   7   |   7   |   9   | +5.7772e+04 | 3.43e+02 | 7.81e+08 | 0.00e+00 |\n",
      "|   8   |   8   |  10   | +5.7771e+04 | 3.43e+02 | 9.90e+02 | 0.00e+00 |\n",
      "|   9   |   9   |  15   | +2.6025e+03 | 8.77e+02 | 9.03e+01 | 0.00e+00 |\n",
      "|  10   |  10   |  20   | +1.9463e+03 | 1.14e+03 | 1.22e+01 | 0.00e+00 |\n",
      "|  11   |  11   |  25   | +1.8276e+03 | 1.14e+03 | 9.81e-01 | 0.00e+00 |\n",
      "|  12   |  12   |  30   | +1.8057e+03 | 1.14e+03 | 2.74e+00 | 0.00e+00 |\n",
      "|  13   |  13   |  35   | +1.8017e+03 | 1.14e+03 | 5.61e-01 | 0.00e+00 |\n",
      "|  14   |  14   |  40   | +1.8009e+03 | 1.14e+03 | 7.64e-01 | 0.00e+00 |\n",
      "|  15   |  15   |  45   | +1.8007e+03 | 1.14e+03 | 8.14e-02 | 0.00e+00 |\n",
      "|  16   |  16   |  50   | +1.8007e+03 | 1.14e+03 | 2.26e-01 | 0.00e+00 |\n",
      "|  17   |  17   |  52   | +1.8007e+03 | 1.14e+03 | 1.45e-02 | 0.00e+00 |\n",
      "|  18   |  18   |  57   | +1.8007e+03 | 1.14e+03 | 2.22e-02 | 0.00e+00 |\n",
      "|  19   |  19   |  62   | +1.8007e+03 | 1.14e+03 | 7.88e-03 | 0.00e+00 |\n",
      "|  20   |  20   |  67   | +1.8007e+03 | 1.14e+03 | 1.33e-02 | 0.00e+00 |\n",
      "|  21   |  21   |  72   | +1.8007e+03 | 1.14e+03 | 4.08e-03 | 0.00e+00 |\n",
      "|  22   |  22   |  77   | +1.8007e+03 | 1.14e+03 | 8.52e-03 | 0.00e+00 |\n",
      "|  23   |  23   |  82   | +1.8007e+03 | 1.14e+03 | 2.46e-03 | 0.00e+00 |\n",
      "|  24   |  24   |  87   | +1.8007e+03 | 1.14e+03 | 5.47e-03 | 0.00e+00 |\n",
      "|  25   |  25   |  92   | +1.8007e+03 | 1.14e+03 | 1.56e-03 | 0.00e+00 |\n",
      "|  26   |  26   |  97   | +1.8007e+03 | 1.14e+03 | 3.51e-03 | 0.00e+00 |\n",
      "|  27   |  27   |  102  | +1.8007e+03 | 1.14e+03 | 9.97e-04 | 0.00e+00 |\n",
      "|  28   |  28   |  107  | +1.8007e+03 | 1.14e+03 | 2.25e-03 | 0.00e+00 |\n",
      "|  29   |  29   |  112  | +1.8007e+03 | 1.14e+03 | 6.38e-04 | 0.00e+00 |\n",
      "|  30   |  30   |  117  | +1.8007e+03 | 1.14e+03 | 1.44e-03 | 0.00e+00 |\n",
      "|  31   |  31   |  122  | +1.8007e+03 | 1.14e+03 | 4.09e-04 | 0.00e+00 |\n",
      "|  32   |  32   |  127  | +1.8007e+03 | 1.14e+03 | 9.23e-04 | 0.00e+00 |\n",
      "|  33   |  33   |  131  | +1.8007e+03 | 1.14e+03 | 2.62e-04 | 0.00e+00 |\n",
      "|  34   |  34   |  136  | +1.8007e+03 | 1.14e+03 | 5.92e-04 | 0.00e+00 |\n",
      "|  35   |  35   |  141  | +1.8007e+03 | 1.14e+03 | 4.90e-04 | 0.00e+00 |\n",
      "|  36   |  36   |  146  | +1.8007e+03 | 1.14e+03 | 3.79e-04 | 0.00e+00 |\n",
      "|  37   |  37   |  151  | +1.8007e+03 | 1.14e+03 | 1.39e-04 | 0.00e+00 |\n",
      "|  38   |  38   |  156  | +1.8007e+03 | 1.14e+03 | 2.43e-04 | 0.00e+00 |\n",
      "|  39   |  39   |  161  | +1.8007e+03 | 1.14e+03 | 1.49e-04 | 0.00e+00 |\n",
      "|  40   |  40   |  166  | +1.8007e+03 | 1.14e+03 | 1.56e-04 | 0.00e+00 |\n",
      "|  41   |  41   |  171  | +1.8007e+03 | 1.14e+03 | 4.42e-05 | 0.00e+00 |\n",
      "|  42   |  42   |  176  | +1.8007e+03 | 1.14e+03 | 9.98e-05 | 0.00e+00 |\n",
      "|  43   |  43   |  181  | +1.8007e+03 | 1.14e+03 | 4.20e-05 | 0.00e+00 |\n",
      "|  44   |  44   |  186  | +1.8007e+03 | 1.14e+03 | 9.01e-05 | 0.00e+00 |\n",
      "|  45   |  45   |  191  | +1.8007e+03 | 1.14e+03 | 5.44e-05 | 0.00e+00 |\n",
      "|  46   |  46   |  196  | +1.8007e+03 | 1.14e+03 | 1.17e-04 | 0.00e+00 |\n",
      "|  47   |  47   |  201  | +1.8007e+03 | 1.14e+03 | 1.13e-04 | 0.00e+00 |\n",
      "|  48   |  48   |  202  | +1.8007e+03 | 1.14e+03 | 2.74e-05 | 0.00e+00 |\n",
      "|  49   |  49   |  207  | +1.8007e+03 | 1.14e+03 | 2.63e-05 | 0.00e+00 |\n",
      "|  50   |  50   |  212  | +1.8007e+03 | 1.14e+03 | 5.70e-05 | 0.00e+00 |\n",
      "|  51   |  51   |  213  | +1.8007e+03 | 1.14e+03 | 1.05e-05 | 0.00e+00 |\n",
      "|  52   |  52   |  218  | +1.8007e+03 | 1.14e+03 | 1.35e-04 | 0.00e+00 |\n",
      "|  53   |  53   |  219  | +1.8007e+03 | 1.14e+02 | 1.35e-04 | 0.00e+00 |\n",
      "|  54   |  53   |  220  | +1.8007e+03 | 1.14e+01 | 1.35e-04 | 0.00e+00 |\n",
      "|  55   |  53   |  221  | +1.8007e+03 | 1.14e+00 | 1.35e-04 | 0.00e+00 |\n",
      "|  56   |  53   |  222  | +1.8007e+03 | 1.14e-01 | 1.35e-04 | 0.00e+00 |\n",
      "|  57   |  53   |  223  | +1.8007e+03 | 1.14e-02 | 1.35e-04 | 0.00e+00 |\n",
      "|  58   |  53   |  224  | +1.8007e+03 | 1.14e-03 | 1.35e-04 | 0.00e+00 |\n",
      "|  59   |  53   |  225  | +1.8007e+03 | 1.14e-04 | 1.35e-04 | 0.00e+00 |\n",
      "|  60   |  53   |  226  | +1.8007e+03 | 1.14e-05 | 1.35e-04 | 0.00e+00 |\n",
      "|  61   |  53   |  227  | +1.8007e+03 | 1.14e-06 | 1.35e-04 | 0.00e+00 |\n",
      "|  62   |  53   |  228  | +1.8007e+03 | 1.14e-07 | 1.35e-04 | 0.00e+00 |\n",
      "|  63   |  53   |  229  | +1.8007e+03 | 1.14e-08 | 1.35e-04 | 0.00e+00 |\n",
      "|  64   |  53   |  230  | +1.8007e+03 | 1.14e-09 | 1.35e-04 | 0.00e+00 |\n",
      "|  65   |  53   |  231  | +1.8007e+03 | 1.14e-10 | 1.35e-04 | 0.00e+00 |\n",
      "|  66   |  53   |  232  | +1.8007e+03 | 1.14e-11 | 1.35e-04 | 0.00e+00 |\n",
      "\n",
      "`xtol` termination condition is satisfied.\n",
      "Number of iterations: 66, function evaluations: 53, CG iterations: 232, optimality: 1.35e-04, constraint violation: 0.00e+00, execution time: 0.071 s.\n"
     ]
    }
   ],
   "source": [
    "opt_res = minimize(objective, x0=beta,method='trust-constr', jac=True, hess=hessian,options={'verbose':2,'xtol':1e-10})"
   ],
   "metadata": {
    "collapsed": false
   }
  },
  {
   "cell_type": "code",
   "execution_count": 33,
   "outputs": [
    {
     "data": {
      "text/plain": "array([ 1.55997676e+02,  1.76812034e+02, -6.30689448e-08, -1.54648241e+02,\n        5.88827281e+01])"
     },
     "execution_count": 33,
     "metadata": {},
     "output_type": "execute_result"
    }
   ],
   "source": [
    "opt_res.x"
   ],
   "metadata": {
    "collapsed": false
   }
  },
  {
   "cell_type": "code",
   "execution_count": 34,
   "outputs": [
    {
     "data": {
      "text/plain": "array([ 1.55997671e+02,  1.76812214e+02, -6.30689787e-08, -1.54648360e+02,\n        5.88827003e+01])"
     },
     "execution_count": 34,
     "metadata": {},
     "output_type": "execute_result"
    }
   ],
   "source": [
    "model = sm.OLS(Y,X)\n",
    "results = model.fit()\n",
    "results.params"
   ],
   "metadata": {
    "collapsed": false
   }
  },
  {
   "cell_type": "code",
   "execution_count": 35,
   "outputs": [
    {
     "data": {
      "text/plain": "<class 'statsmodels.iolib.summary.Summary'>\n\"\"\"\n                            OLS Regression Results                            \n==============================================================================\nDep. Variable:                      y   R-squared:                       0.561\nModel:                            OLS   Adj. R-squared:                  0.546\nMethod:                 Least Squares   F-statistic:                     37.09\nDate:                Sat, 15 Oct 2022   Prob (F-statistic):           5.97e-20\nTime:                        14:02:28   Log-Likelihood:                -376.99\nNo. Observations:                 121   AIC:                             764.0\nDf Residuals:                     116   BIC:                             777.9\nDf Model:                           4                                         \nCovariance Type:            nonrobust                                         \n==============================================================================\n                 coef    std err          t      P>|t|      [0.025      0.975]\n------------------------------------------------------------------------------\nconst        155.9977      2.260     69.036      0.000     151.522     160.473\nx1           176.8122     25.387      6.965      0.000     126.530     227.095\nx2         -6.307e-08   2.04e-08     -3.090      0.003   -1.03e-07   -2.26e-08\nx3          -154.6484     23.479     -6.587      0.000    -201.152    -108.145\nx4            58.8827     17.254      3.413      0.001      24.708      93.057\n==============================================================================\nOmnibus:                        6.991   Durbin-Watson:                   0.230\nProb(Omnibus):                  0.030   Jarque-Bera (JB):                7.153\nSkew:                          -0.564   Prob(JB):                       0.0280\nKurtosis:                       2.618   Cond. No.                     6.31e+09\n==============================================================================\n\nNotes:\n[1] Standard Errors assume that the covariance matrix of the errors is correctly specified.\n[2] The condition number is large, 6.31e+09. This might indicate that there are\nstrong multicollinearity or other numerical problems.\n\"\"\"",
      "text/html": "<table class=\"simpletable\">\n<caption>OLS Regression Results</caption>\n<tr>\n  <th>Dep. Variable:</th>            <td>y</td>        <th>  R-squared:         </th> <td>   0.561</td>\n</tr>\n<tr>\n  <th>Model:</th>                   <td>OLS</td>       <th>  Adj. R-squared:    </th> <td>   0.546</td>\n</tr>\n<tr>\n  <th>Method:</th>             <td>Least Squares</td>  <th>  F-statistic:       </th> <td>   37.09</td>\n</tr>\n<tr>\n  <th>Date:</th>             <td>Sat, 15 Oct 2022</td> <th>  Prob (F-statistic):</th> <td>5.97e-20</td>\n</tr>\n<tr>\n  <th>Time:</th>                 <td>14:02:28</td>     <th>  Log-Likelihood:    </th> <td> -376.99</td>\n</tr>\n<tr>\n  <th>No. Observations:</th>      <td>   121</td>      <th>  AIC:               </th> <td>   764.0</td>\n</tr>\n<tr>\n  <th>Df Residuals:</th>          <td>   116</td>      <th>  BIC:               </th> <td>   777.9</td>\n</tr>\n<tr>\n  <th>Df Model:</th>              <td>     4</td>      <th>                     </th>     <td> </td>   \n</tr>\n<tr>\n  <th>Covariance Type:</th>      <td>nonrobust</td>    <th>                     </th>     <td> </td>   \n</tr>\n</table>\n<table class=\"simpletable\">\n<tr>\n    <td></td>       <th>coef</th>     <th>std err</th>      <th>t</th>      <th>P>|t|</th>  <th>[0.025</th>    <th>0.975]</th>  \n</tr>\n<tr>\n  <th>const</th> <td>  155.9977</td> <td>    2.260</td> <td>   69.036</td> <td> 0.000</td> <td>  151.522</td> <td>  160.473</td>\n</tr>\n<tr>\n  <th>x1</th>    <td>  176.8122</td> <td>   25.387</td> <td>    6.965</td> <td> 0.000</td> <td>  126.530</td> <td>  227.095</td>\n</tr>\n<tr>\n  <th>x2</th>    <td>-6.307e-08</td> <td> 2.04e-08</td> <td>   -3.090</td> <td> 0.003</td> <td>-1.03e-07</td> <td>-2.26e-08</td>\n</tr>\n<tr>\n  <th>x3</th>    <td> -154.6484</td> <td>   23.479</td> <td>   -6.587</td> <td> 0.000</td> <td> -201.152</td> <td> -108.145</td>\n</tr>\n<tr>\n  <th>x4</th>    <td>   58.8827</td> <td>   17.254</td> <td>    3.413</td> <td> 0.001</td> <td>   24.708</td> <td>   93.057</td>\n</tr>\n</table>\n<table class=\"simpletable\">\n<tr>\n  <th>Omnibus:</th>       <td> 6.991</td> <th>  Durbin-Watson:     </th> <td>   0.230</td>\n</tr>\n<tr>\n  <th>Prob(Omnibus):</th> <td> 0.030</td> <th>  Jarque-Bera (JB):  </th> <td>   7.153</td>\n</tr>\n<tr>\n  <th>Skew:</th>          <td>-0.564</td> <th>  Prob(JB):          </th> <td>  0.0280</td>\n</tr>\n<tr>\n  <th>Kurtosis:</th>      <td> 2.618</td> <th>  Cond. No.          </th> <td>6.31e+09</td>\n</tr>\n</table><br/><br/>Notes:<br/>[1] Standard Errors assume that the covariance matrix of the errors is correctly specified.<br/>[2] The condition number is large, 6.31e+09. This might indicate that there are<br/>strong multicollinearity or other numerical problems."
     },
     "execution_count": 35,
     "metadata": {},
     "output_type": "execute_result"
    }
   ],
   "source": [
    "results.summary()"
   ],
   "metadata": {
    "collapsed": false
   }
  },
  {
   "cell_type": "markdown",
   "source": [
    "$$\n",
    "f = Ar^{l-p-1}\n",
    "$$"
   ],
   "metadata": {
    "collapsed": false
   }
  },
  {
   "cell_type": "code",
   "execution_count": 37,
   "outputs": [
    {
     "data": {
      "text/plain": "0.6105402296585328"
     },
     "execution_count": 37,
     "metadata": {},
     "output_type": "execute_result"
    }
   ],
   "source": [
    "np.exp(np.log(0.001)/(20 - 5 -1))"
   ],
   "metadata": {
    "collapsed": false
   }
  }
 ],
 "metadata": {
  "kernelspec": {
   "display_name": "Python 3",
   "language": "python",
   "name": "python3"
  },
  "language_info": {
   "codemirror_mode": {
    "name": "ipython",
    "version": 2
   },
   "file_extension": ".py",
   "mimetype": "text/x-python",
   "name": "python",
   "nbconvert_exporter": "python",
   "pygments_lexer": "ipython2",
   "version": "2.7.6"
  }
 },
 "nbformat": 4,
 "nbformat_minor": 0
}
